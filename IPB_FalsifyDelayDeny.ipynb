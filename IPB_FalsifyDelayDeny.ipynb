{
 "cells": [
  {
   "cell_type": "markdown",
   "id": "873b8768-f18e-4ba5-ad9a-509538230180",
   "metadata": {},
   "source": [
    "## Imports"
   ]
  },
  {
   "cell_type": "code",
   "execution_count": 1,
   "id": "31ac9d04-e7d7-4d5d-9c28-12dae1b526c5",
   "metadata": {},
   "outputs": [
    {
     "data": {
      "text/html": [
       "<div id=\"glowscript\" class=\"glowscript\"></div>"
      ],
      "text/plain": [
       "<IPython.core.display.HTML object>"
      ]
     },
     "metadata": {},
     "output_type": "display_data"
    },
    {
     "data": {
      "application/javascript": [
       "if (typeof Jupyter !== \"undefined\") { window.__context = { glowscript_container: $(\"#glowscript\").removeAttr(\"id\")};}else{ element.textContent = ' ';}"
      ],
      "text/plain": [
       "<IPython.core.display.Javascript object>"
      ]
     },
     "metadata": {},
     "output_type": "display_data"
    }
   ],
   "source": [
    "from vpython import *\n",
    "import numpy as np\n",
    "import matplotlib.pyplot as pyplt\n",
    "import random\n",
    "from collections import deque"
   ]
  },
  {
   "cell_type": "markdown",
   "id": "42c1cce1-fac2-4135-86cb-4ab901407e9a",
   "metadata": {},
   "source": [
    "## Simulation"
   ]
  },
  {
   "cell_type": "markdown",
   "id": "34bae488-59de-4d6a-b2f2-48ab6f8c3fc2",
   "metadata": {},
   "source": [
    "### Simulation Setup"
   ]
  },
  {
   "cell_type": "code",
   "execution_count": 18,
   "id": "2c5cba77-9305-46c9-a26b-35c614745b5b",
   "metadata": {},
   "outputs": [
    {
     "data": {
      "text/html": [
       "<div id=\"glowscript\" class=\"glowscript\"></div>"
      ],
      "text/plain": [
       "<IPython.core.display.HTML object>"
      ]
     },
     "metadata": {},
     "output_type": "display_data"
    },
    {
     "data": {
      "application/javascript": [
       "if (typeof Jupyter !== \"undefined\") { window.__context = { glowscript_container: $(\"#glowscript\").removeAttr(\"id\")};}else{ element.textContent = ' ';}"
      ],
      "text/plain": [
       "<IPython.core.display.Javascript object>"
      ]
     },
     "metadata": {},
     "output_type": "display_data"
    }
   ],
   "source": [
    "# attack parameters\n",
    "injection_attack = False\n",
    "delay_attack = False\n",
    "denial_attack = False\n",
    "triple_redundancy = False\n",
    "\n",
    "# scene setup\n",
    "scene = canvas(title=\"Inverted Pendulum Balancer\", width=800, height=400)\n",
    "\n",
    "#----------------------------------------------------------------------\n",
    "# define a cylinder to act as our pendulum\n",
    "pend = cylinder(pos=vec(0, 0, 0), axis=vec(0, 1, 0), radius=0.04, length=1, color=vec(1, 0, 0))\n",
    "pend.mass = 1\n",
    "pend.theta = np.pi / 2 - 0.1\n",
    "pend.thetaDot = 0\n",
    "\n",
    "# define a clyinder to act as the rail our pendulum is attached to\n",
    "rail = cylinder(pos=vec(0, 0, 0), axis=vec(1, 0, 0), radius=0.1, length=30, color=vec(0, 1, 0))\n",
    "rail.pos.x = -rail.length / 2\n",
    "rail.pos.y = -rail.radius\n",
    "\n",
    "positionOutput = wtext(text='Position={:f}'.format(0))\n",
    "\n",
    "#----------------------------------------------------------------------\n",
    "class PerceivedPendulum:\n",
    "    # This class holds the system's perceived values for the pendulum.\n",
    "    # What it \"believes\" the pendulum's pos, angle, angular velocity are.\n",
    "    # These values can be altered by attacks.\n",
    "    def __init__(self, pend):\n",
    "        self.pos = vec(pend.pos.x, 0, 0)\n",
    "        self.theta = pend.theta\n",
    "        self.thetaDot = pend.thetaDot\n",
    "\n",
    "perceived = PerceivedPendulum(pend)\n",
    "perceived.pos.x = pend.pos.x\n",
    "perceived.theta = pend.theta\n",
    "perceived.thetaDot = pend.thetaDot\n",
    "\n",
    "perceived2 = PerceivedPendulum(pend)\n",
    "perceived2.pos.x = pend.pos.x\n",
    "perceived2.theta = pend.theta\n",
    "perceived2.thetaDot = pend.thetaDot\n",
    "\n",
    "perceived3 = PerceivedPendulum(pend)\n",
    "perceived3.pos.x = pend.pos.x\n",
    "perceived3.theta = pend.theta\n",
    "perceived3.thetaDot = pend.thetaDot\n",
    "\n",
    "#----------------------------------------------------------------------\n",
    "# constants\n",
    "G = 9.8\n",
    "damping = 0.02\n",
    "coefficientOfRestitution = 0.8\n",
    "collisions = False\n",
    "\n",
    "targetPos = 2\n",
    "\n",
    "# time\n",
    "t = 0\n",
    "endTime = 15\n",
    "dt = 0.01\n",
    "speedMultiplier = 1\n",
    "\n",
    "# data storage\n",
    "time_data = []\n",
    "position_data = []\n",
    "perceived_pos_data = []\n",
    "angle_data = []\n",
    "perceived_angle_data = []\n",
    "\n",
    "#----------------------------------------------------------------------\n",
    "def getControlSignal(perceived, perceived2, perceived3, desiredPosition):\n",
    "    # simple PD controller\n",
    "    # theta_error = np.pi / 2 - perceived.theta\n",
    "    # theta_dot_error = -perceived.thetaDot\n",
    "    # position_error = perceived.pos.x - xPos\n",
    "\n",
    "    if triple_redundancy:\n",
    "        # Check if two of the sensors match, if so they have a 2/3 majority and win the vote\n",
    "        if perceived.theta == perceived2.theta:\n",
    "            targetTheta = perceived.theta\n",
    "        elif perceived.theta == perceived3.theta:\n",
    "            targetTheta = perceived.theta\n",
    "        elif perceived2.theta == perceived3.theta:\n",
    "            targetTheta = perceived2.theta\n",
    "            \n",
    "        if perceived.thetaDot == perceived2.thetaDot:\n",
    "            targetThetaDot = perceived.thetaDot\n",
    "        elif perceived.thetaDot == perceived3.thetaDot:\n",
    "            targetThetaDot = perceived.thetaDot\n",
    "        elif perceived2.thetaDot == perceived3.thetaDot:\n",
    "            targetThetaDot = perceived2.thetaDot\n",
    "            \n",
    "        if perceived.pos.x == perceived2.pos.x:\n",
    "            targetX = perceived.pos.x\n",
    "        elif perceived.pos.x == perceived3.pos.x:\n",
    "            targetX = perceived.pos.x\n",
    "        elif perceived2.pos.x == perceived3.pos.x:\n",
    "            targetX = perceived2.pos.x\n",
    "    else:\n",
    "        targetTheta = perceived.theta\n",
    "        targetThetaDot = perceived.thetaDot\n",
    "        targetX = perceived.pos.x\n",
    "    \n",
    "    theta_error = np.pi / 2 - targetTheta\n",
    "    theta_dot_error = -targetThetaDot\n",
    "    position_error = targetX - desiredPosition\n",
    "\n",
    "    # gain values\n",
    "    Kp_theta = 10\n",
    "    Kd_theta = 4\n",
    "    Kp_position = 2\n",
    "\n",
    "    return Kp_theta * theta_error + Kd_theta * theta_dot_error + Kp_position * position_error\n",
    "\n",
    "#----------------------------------------------------------------------\n",
    "def updatePend(pend, dt):\n",
    "\n",
    "    # if injection attack, inject false data\n",
    "    if injection_attack:\n",
    "        inject_false_data(perceived)\n",
    "\n",
    "    xDot = getControlSignal(perceived, perceived2, perceived3, targetPos) # use percieved values, as this is what the system believes its values are\n",
    "\n",
    "    # apply control signal to real pendulum values\n",
    "    pend.pos.x += xDot*dt    \n",
    "    pend.theta += np.arctan(xDot*dt/pend.length) # my system hates atan() and needs arctan() spelled out\n",
    "    pend.theta %= np.pi*2\n",
    "\n",
    "    torque = -G*pend.mass*pend.length/2*np.cos(pend.theta) - pend.thetaDot*damping\n",
    "    moment = 0.333*pend.mass*pend.length**2\n",
    "    thetaDoubleDot = torque/moment\n",
    "    \n",
    "    pend.thetaDot += thetaDoubleDot*dt\n",
    "    pend.theta += pend.thetaDot*dt\n",
    "\n",
    "    # add current real state to the delay buffer\n",
    "    if delay_attack:\n",
    "        delay_buffer.append({\n",
    "            'pos': pend.pos.x,\n",
    "            'theta': pend.theta,\n",
    "            'thetaDot': pend.thetaDot\n",
    "        })\n",
    "        \n",
    "    # if delay is enabled and we have enough captured frames, use delayed data\n",
    "    if delay_attack and len(delay_buffer) > delay_frames:\n",
    "        delayed = delay_buffer[-delay_frames]\n",
    "        perceived.pos.x = delayed['pos']\n",
    "        perceived.theta = delayed['theta']\n",
    "        perceived.thetaDot = delayed['thetaDot']\n",
    "    \n",
    "    # otherwise use real position or deny\n",
    "    elif not denial_attack or random.random() > deny_rate:\n",
    "        perceived.pos.x = pend.pos.x\n",
    "        perceived.theta = pend.theta\n",
    "        perceived.thetaDot = pend.thetaDot\n",
    "\n",
    "    # Sensors 2 and 3 have been overlooked by the attacker and always get the correct\n",
    "    perceived2.pos.x = pend.pos.x\n",
    "    perceived2.theta = pend.theta\n",
    "    perceived2.thetaDot = pend.thetaDot\n",
    "    perceived3.pos.x = pend.pos.x\n",
    "    perceived3.theta = pend.theta\n",
    "    perceived3.thetaDot = pend.thetaDot\n",
    "\n",
    "    # update visuals\n",
    "    pend.axis = rotate(vec(1, 0, 0), pend.theta, vec(0, 0, 1))*pend.length\n",
    "    positionOutput.text = 'Position={:f}'.format(pend.pos.x)\n",
    "    \n",
    "    return pend\n",
    "\n",
    "#----------------------------------------------------------------------\n",
    "# main loop\n",
    "def simulateIPB():\n",
    "    global pend, t, time_data, position_data, angle_data, perceived_pos_data, perceived_angle_data\n",
    "    t = 0\n",
    "    time_data = []\n",
    "    position_data = []\n",
    "    perceived_pos_data = []\n",
    "    angle_data = []\n",
    "    perceived_angle_data = []\n",
    "    while t < endTime:\n",
    "        pend = updatePend(pend, dt * speedMultiplier)\n",
    "    \n",
    "        # collect real data\n",
    "        time_data.append(t)\n",
    "        position_data.append(pend.pos.x)\n",
    "        degrees = pend.theta * (180/np.pi) # convert angle to degrees\n",
    "        angle_data.append(degrees)\n",
    "    \n",
    "        # collect perceived data\n",
    "        perceived_pos_data.append(perceived.pos.x)\n",
    "        perceived_deg = perceived.theta * (180/np.pi) # convert angle to degrees\n",
    "        perceived_angle_data.append(perceived_deg)\n",
    "    \n",
    "        t += dt\n",
    "        rate(1 / dt)\n",
    "    \n",
    "        # scene display\n",
    "        display = (\n",
    "        f\"Simulation time: {t:.2f}/{endTime:.2f}\\n\"\n",
    "        f\"Real Position: {pend.pos.x:.2f}\\n\"\n",
    "        f\"Perceived Pos: {perceived.pos.x:.2f}\\n\"\n",
    "        f\"Real Angle: {degrees:.2f}\\n\"\n",
    "        f\"Perceived Angle: {perceived_deg:.2f}\\n\"\n",
    "        )\n",
    "        scene.caption = (display)\n",
    "\n"
   ]
  },
  {
   "cell_type": "markdown",
   "id": "1fbb180b-1b4e-4c2a-a4e1-f69e34066cc4",
   "metadata": {},
   "source": [
    "### Base Simulation"
   ]
  },
  {
   "cell_type": "code",
   "execution_count": 16,
   "id": "a6144552-9b0f-4581-ad0e-1c186228b30e",
   "metadata": {},
   "outputs": [
    {
     "data": {
      "image/png": "[encoded data removed]",
      "text/plain": [
       "<Figure size 640x480 with 1 Axes>"
      ]
     },
     "metadata": {},
     "output_type": "display_data"
    }
   ],
   "source": [
    "simulateIPB()\n",
    "\n",
    "#----------------------------------------------------------------------\n",
    "# plotting results\n",
    "pyplt.plot(time_data, angle_data, label='Real Angle', color='blue')\n",
    "pyplt.plot(time_data, perceived_angle_data, label='Perceived Angle', color='red', linestyle='--')\n",
    "\n",
    "#pyplt.plot(time_data, position_data, label='Real Position', color='blue')\n",
    "#pyplt.plot(time_data, perceived_pos_data, label='Perceived Position', color='red', linestyle='--')\n",
    "\n",
    "pyplt.ylabel(\"Angle\")\n",
    "#pyplt.ylabel(\"Position\")\n",
    "pyplt.xlabel(\"Time (s)\")\n",
    "pyplt.legend()\n",
    "pyplt.grid()\n",
    "pyplt.show()"
   ]
  },
  {
   "cell_type": "markdown",
   "id": "4ea0c9a5-f914-4024-9cf4-1845962b0894",
   "metadata": {},
   "source": [
    "### Injection Attack\n",
    "\n",
    "**targeted_data** can be: \n",
    "\"position\" to trick the system into thinking it is in the wrong location, or\n",
    "\"theta\" to trick the system into thinking the pendulum is tipping"
   ]
  },
  {
   "cell_type": "code",
   "execution_count": null,
   "id": "fe6aa54e-645e-49f9-91fd-0a777207d1b5",
   "metadata": {},
   "outputs": [],
   "source": [
    "injection_attack = True\n",
    "injection_rate = 1\n",
    "attack_severity = 0.1\n",
    "targeted_data = \"theta\"\n",
    "\n",
    "def inject_false_data(perceived):\n",
    "    # shift percieved vars from actual values\n",
    "    if random.random() < injection_rate:\n",
    "        shift = random.uniform(-attack_severity, attack_severity)\n",
    "\n",
    "        if targeted_data == \"position\":\n",
    "            perceived.pos.x += shift\n",
    "        elif targeted_data == \"theta\":\n",
    "            perceived.theta += shift\n",
    "\n",
    "simulateIPB()\n",
    "\n",
    "#----------------------------------------------------------------------\n",
    "# plotting results\n",
    "pyplt.plot(time_data, angle_data, label='Real Angle', color='blue')\n",
    "pyplt.plot(time_data, perceived_angle_data, label='Perceived Angle', color='red', linestyle='--')\n",
    "\n",
    "#pyplt.plot(time_data, position_data, label='Real Position', color='blue')\n",
    "#pyplt.plot(time_data, perceived_pos_data, label='Perceived Position', color='red', linestyle='--')\n",
    "\n",
    "pyplt.ylabel(\"Angle\")\n",
    "#pyplt.ylabel(\"Position\")\n",
    "pyplt.xlabel(\"Time (s)\")\n",
    "pyplt.legend()\n",
    "pyplt.grid()\n",
    "pyplt.show()"
   ]
  },
  {
   "cell_type": "markdown",
   "id": "8a916d34-8295-43a4-ac13-e45a18b9fe87",
   "metadata": {},
   "source": [
    "### Deny Attack"
   ]
  },
  {
   "cell_type": "code",
   "execution_count": 13,
   "id": "c3766851-856e-4d8e-a44c-b497e44afe9b",
   "metadata": {},
   "outputs": [],
   "source": [
    "denial_attack = True\n",
    "injection_attack = False\n",
    "delay_attack = False\n",
    "deny_rate = 1 # percent of packets denied\n",
    "\n",
    "simulateIPB()\n",
    "\n",
    "#----------------------------------------------------------------------\n",
    "# plotting results\n",
    "pyplt.plot(time_data, angle_data, label='Real Angle', color='blue')\n",
    "pyplt.plot(time_data, perceived_angle_data, label='Perceived Angle', color='red', linestyle='--')\n",
    "\n",
    "#pyplt.plot(time_data, position_data, label='Real Position', color='blue')\n",
    "#pyplt.plot(time_data, perceived_pos_data, label='Perceived Position', color='red', linestyle='--')\n",
    "\n",
    "pyplt.ylabel(\"Angle\")\n",
    "#pyplt.ylabel(\"Position\")\n",
    "pyplt.xlabel(\"Time (s)\")\n",
    "pyplt.legend()\n",
    "pyplt.grid()\n",
    "pyplt.show()"
   ]
  },
  {
   "cell_type": "markdown",
   "id": "b7eb668b-8126-42fc-8d3d-ce25f393a7b2",
   "metadata": {},
   "source": [
    "### Delay Attack"
   ]
  },
  {
   "cell_type": "code",
   "execution_count": null,
   "id": "860a8a0b-97f6-4beb-83d4-a1cb434e716b",
   "metadata": {},
   "outputs": [],
   "source": [
    "delay_attack = True\n",
    "denial_attack = False\n",
    "injection_attack = False\n",
    "delay_frames = 10  # how many frames of delay\n",
    "delay_buffer = deque(maxlen=50) # to hold delayed frames\n",
    "\n",
    "simulateIPB()\n",
    "\n",
    "#----------------------------------------------------------------------\n",
    "# plotting results\n",
    "pyplt.plot(time_data, angle_data, label='Real Angle', color='blue')\n",
    "pyplt.plot(time_data, perceived_angle_data, label='Perceived Angle', color='red', linestyle='--')\n",
    "\n",
    "#pyplt.plot(time_data, position_data, label='Real Position', color='blue')\n",
    "#pyplt.plot(time_data, perceived_pos_data, label='Perceived Position', color='red', linestyle='--')\n",
    "\n",
    "pyplt.ylabel(\"Angle\")\n",
    "#pyplt.ylabel(\"Position\")\n",
    "pyplt.xlabel(\"Time (s)\")\n",
    "pyplt.legend()\n",
    "pyplt.grid()\n",
    "pyplt.show()"
   ]
  },
  {
   "cell_type": "markdown",
   "id": "58b7602e-9c73-419c-9eb5-2cb762f80fa5",
   "metadata": {},
   "source": [
    "### Time to failure analysis\n",
    "Here we will run the simulation many times with different parameters, and graph the time until failure v.s. the parameter"
   ]
  },
  {
   "cell_type": "markdown",
   "id": "42062d74-c496-403c-abdd-eb4bd7b0a67d",
   "metadata": {},
   "source": [
    "#### Injection attack\n",
    "We can change the attack severity and rate parameters"
   ]
  },
  {
   "cell_type": "code",
   "execution_count": 17,
   "id": "3feb0f8b-160d-4049-a233-ef18a983bff6",
   "metadata": {},
   "outputs": [
    {
     "data": {
      "image/png": "[encoded data removed]",
      "text/plain": [
       "<Figure size 640x480 with 1 Axes>"
      ]
     },
     "metadata": {},
     "output_type": "display_data"
    }
   ],
   "source": [
    "injection_attack = True\n",
    "denial_attack = False\n",
    "delay_attack = False\n",
    "injection_rate = 1\n",
    "attack_severity = 0.1\n",
    "targeted_data = \"theta\"\n",
    "\n",
    "def inject_false_data(perceived):\n",
    "    # shift percieved vars from actual values\n",
    "    if random.random() < injection_rate:\n",
    "        shift = random.uniform(-attack_severity, attack_severity)\n",
    "\n",
    "        if targeted_data == \"position\":\n",
    "            perceived.pos.x += shift\n",
    "        elif targeted_data == \"theta\":\n",
    "            perceived.theta += shift\n",
    "\n",
    "simulateIPB()\n",
    "\n",
    "#----------------------------------------------------------------------\n",
    "# plotting results\n",
    "pyplt.plot(time_data, angle_data, label='Real Angle', color='blue')\n",
    "pyplt.plot(time_data, perceived_angle_data, label='Perceived Angle', color='red', linestyle='--')\n",
    "\n",
    "#pyplt.plot(time_data, position_data, label='Real Position', color='blue')\n",
    "#pyplt.plot(time_data, perceived_pos_data, label='Perceived Position', color='red', linestyle='--')\n",
    "\n",
    "pyplt.ylabel(\"Angle\")\n",
    "#pyplt.ylabel(\"Position\")\n",
    "pyplt.xlabel(\"Time (s)\")\n",
    "pyplt.legend()\n",
    "pyplt.grid()\n",
    "pyplt.show()"
   ]
  },
  {
   "cell_type": "code",
   "execution_count": null,
   "id": "36bc3174-d707-4177-aa55-7192f10ba3df",
   "metadata": {},
   "outputs": [],
   "source": []
  }
 ],
 "metadata": {
  "kernelspec": {
   "display_name": "Python 3 (ipykernel)",
   "language": "python",
   "name": "python3"
  },
  "language_info": {
   "codemirror_mode": {
    "name": "ipython",
    "version": 3
   },
   "file_extension": ".py",
   "mimetype": "text/x-python",
   "name": "python",
   "nbconvert_exporter": "python",
   "pygments_lexer": "ipython3",
   "version": "3.10.16"
  }
 },
 "nbformat": 4,
 "nbformat_minor": 5
}
