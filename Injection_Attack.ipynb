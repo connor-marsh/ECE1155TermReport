{
 "cells": [
  {
   "cell_type": "markdown",
   "id": "a9a3b199-ad69-431f-bdbd-03f275d1f8e9",
   "metadata": {},
   "source": [
    "# Imports"
   ]
  },
  {
   "cell_type": "code",
   "execution_count": 2,
   "id": "95afd010-1f6f-46aa-a6c9-3e5ecbc1bd8e",
   "metadata": {
    "tags": []
   },
   "outputs": [
    {
     "data": {
      "text/html": [
       "<div id=\"glowscript\" class=\"glowscript\"></div>"
      ],
      "text/plain": [
       "<IPython.core.display.HTML object>"
      ]
     },
     "metadata": {},
     "output_type": "display_data"
    },
    {
     "data": {
      "application/javascript": [
       "if (typeof Jupyter !== \"undefined\") { window.__context = { glowscript_container: $(\"#glowscript\").removeAttr(\"id\")};}else{ element.textContent = ' ';}"
      ],
      "text/plain": [
       "<IPython.core.display.Javascript object>"
      ]
     },
     "metadata": {},
     "output_type": "display_data"
    },
    {
     "data": {
      "text/html": [
       "<div id=\"glowscript\" class=\"glowscript\"></div>"
      ],
      "text/plain": [
       "<IPython.core.display.HTML object>"
      ]
     },
     "metadata": {},
     "output_type": "display_data"
    },
    {
     "data": {
      "application/javascript": [
       "if (typeof Jupyter !== \"undefined\") { window.__context = { glowscript_container: $(\"#glowscript\").removeAttr(\"id\")};}else{ element.textContent = ' ';}"
      ],
      "text/plain": [
       "<IPython.core.display.Javascript object>"
      ]
     },
     "metadata": {},
     "output_type": "display_data"
    },
    {
     "data": {
      "application/javascript": [
       "if (typeof Jupyter !== \"undefined\") {require.undef(\"nbextensions/vpython_libraries/glow.min\");}else{element.textContent = ' ';}"
      ],
      "text/plain": [
       "<IPython.core.display.Javascript object>"
      ]
     },
     "metadata": {},
     "output_type": "display_data"
    },
    {
     "data": {
      "application/javascript": [
       "if (typeof Jupyter !== \"undefined\") {require.undef(\"nbextensions/vpython_libraries/glowcomm\");}else{element.textContent = ' ';}"
      ],
      "text/plain": [
       "<IPython.core.display.Javascript object>"
      ]
     },
     "metadata": {},
     "output_type": "display_data"
    },
    {
     "data": {
      "application/javascript": [
       "if (typeof Jupyter !== \"undefined\") {require.undef(\"nbextensions/vpython_libraries/jquery-ui.custom.min\");}else{element.textContent = ' ';}"
      ],
      "text/plain": [
       "<IPython.core.display.Javascript object>"
      ]
     },
     "metadata": {},
     "output_type": "display_data"
    },
    {
     "data": {
      "application/javascript": [
       "if (typeof Jupyter !== \"undefined\") {require([\"nbextensions/vpython_libraries/glow.min\"], function(){console.log(\"GLOW LOADED\");});}else{element.textContent = ' ';}"
      ],
      "text/plain": [
       "<IPython.core.display.Javascript object>"
      ]
     },
     "metadata": {},
     "output_type": "display_data"
    },
    {
     "data": {
      "application/javascript": [
       "if (typeof Jupyter !== \"undefined\") {require([\"nbextensions/vpython_libraries/glowcomm\"], function(){console.log(\"GLOWCOMM LOADED\");});}else{element.textContent = ' ';}"
      ],
      "text/plain": [
       "<IPython.core.display.Javascript object>"
      ]
     },
     "metadata": {},
     "output_type": "display_data"
    },
    {
     "data": {
      "application/javascript": [
       "if (typeof Jupyter !== \"undefined\") {require([\"nbextensions/vpython_libraries/jquery-ui.custom.min\"], function(){console.log(\"JQUERY LOADED\");});}else{element.textContent = ' ';}"
      ],
      "text/plain": [
       "<IPython.core.display.Javascript object>"
      ]
     },
     "metadata": {},
     "output_type": "display_data"
    }
   ],
   "source": [
    "from vpython import *\n",
    "import numpy as np\n",
    "import matplotlib.pyplot as pyplt\n",
    "scene = canvas()\n",
    "sphere()"
   ]
  },
  {
   "cell_type": "markdown",
   "id": "6acb301b-7d08-4ab0-b5a4-03678ede6402",
   "metadata": {},
   "source": [
    "# Sim"
   ]
  },
  {
   "cell_type": "code",
   "execution_count": 16,
   "id": "dd271fec-3518-419f-bb04-24cbe6139664",
   "metadata": {
    "tags": []
   },
   "outputs": [
    {
     "data": {
      "text/html": [
       "<div id=\"glowscript\" class=\"glowscript\"></div>"
      ],
      "text/plain": [
       "<IPython.core.display.HTML object>"
      ]
     },
     "metadata": {},
     "output_type": "display_data"
    },
    {
     "data": {
      "application/javascript": [
       "if (typeof Jupyter !== \"undefined\") { window.__context = { glowscript_container: $(\"#glowscript\").removeAttr(\"id\")};}else{ element.textContent = ' ';}"
      ],
      "text/plain": [
       "<IPython.core.display.Javascript object>"
      ]
     },
     "metadata": {},
     "output_type": "display_data"
    },
    {
     "data": {
      "image/png": "[encoded data removed]",
      "text/plain": [
       "<Figure size 640x480 with 1 Axes>"
      ]
     },
     "metadata": {},
     "output_type": "display_data"
    }
   ],
   "source": [
    "from vpython import *\n",
    "import numpy as np\n",
    "import matplotlib.pyplot as pyplt\n",
    "#ADDED\n",
    "import random\n",
    "\n",
    "scene = canvas()\n",
    "\n",
    "pend = cylinder(pos=vec(0,0,0), axis=vec(0,1,0), radius=0.04, length=1, color=vec(1,0,0))\n",
    "pend.mass = 1\n",
    "pend.theta = np.pi/2-0.1\n",
    "pend.thetaDot = 0\n",
    "\n",
    "rail = cylinder(pos=vec(0, 0, 0), axis=vec(1,0,0), radius=0.1, length=30, color=vec(0,1,0))\n",
    "rail.pos.x=-rail.length/2\n",
    "rail.pos.y=-rail.radius\n",
    "\n",
    "#positionOutput = wtext(text='Position={:f}'.format(0))\n",
    "def endSim():\n",
    "    # global t\n",
    "    # t=endTime\n",
    "    global targetPos\n",
    "    targetPos *= -1\n",
    "endButton = button(text=\"End Sim\", bind=endSim)\n",
    "\n",
    "G = 9.8\n",
    "damping = 0.02\n",
    "coefficientOfRestitution = 0.8\n",
    "collisions = False\n",
    "\n",
    "kP_stable = 40\n",
    "kP_move = 0.5\n",
    "# kP_stable = 0\n",
    "# kP_move = 0\n",
    "kD_move=0\n",
    "prevPositionError = 0\n",
    "targetPos = -1\n",
    "\n",
    "t = 0\n",
    "endTime = 30\n",
    "dt = 0.01\n",
    "speedMultiplier = 1\n",
    "\n",
    "#ADDED - Lists for data storage\n",
    "time_data = []\n",
    "position_data = []\n",
    "#velocity_data = []\n",
    "\n",
    "#ADDED - Values for false data injection\n",
    "active_injection_attack = False\n",
    "injection_rate = .1\n",
    "attack_severity = .2\n",
    "targeted_data = \"position\" #\"position\" or \"velocity\"\n",
    "\n",
    "\n",
    "def getControlSignal(pend, xPos):\n",
    "    global prevPositionError\n",
    "    positionError = pend.pos.x-xPos\n",
    "    if abs(np.pi/2 - pend.theta) < np.pi/4:\n",
    "        signal = (np.pi/2-pend.theta)*kP_stable + positionError*kP_move + (positionError-prevPositionError)*kD_move\n",
    "    else:\n",
    "        signal = 0\n",
    "    prevPositionError = positionError\n",
    "    return signal\n",
    "\n",
    "def updatePend(pend, dt):\n",
    "    #ADDED - Check if attack enabled\n",
    "    if active_injection_attack:\n",
    "        inject_false_data(pend)\n",
    "    \n",
    "    xDot = getControlSignal(pend, targetPos)\n",
    "    pend.pos.x += xDot*dt\n",
    "    pend.theta += np.atan(xDot*dt/pend.length)\n",
    "    pend.theta %= np.pi*2\n",
    "    \n",
    "    torque = -G*pend.mass*pend.length/2*np.cos(pend.theta) - pend.thetaDot*damping\n",
    "    moment = 0.333*pend.mass*pend.length**2\n",
    "    thetaDoubleDot = torque/moment\n",
    "    pend.thetaDot += thetaDoubleDot*dt\n",
    "    pend.theta += pend.thetaDot*dt\n",
    "    \n",
    "    if pend.theta < 0 or pend.theta > np.pi and collisions:\n",
    "        pend.theta = 0 if pend.theta < 0 else np.pi\n",
    "        pend.thetaDot *= -1*coefficientOfRestitution\n",
    "    \n",
    "    pend.axis = rotate(vec(1, 0, 0), pend.theta, vec(0, 0, 1))*pend.length\n",
    "    positionOutput.text = 'Position={:f}'.format(pend.pos.x)\n",
    "    return pend\n",
    "\n",
    "\n",
    "def inject_false_data(pend):\n",
    "    if random.random() <= injection_rate:\n",
    "        if targeted_data == \"position\":\n",
    "            shift = random.uniform(-attack_severity, attack_severity)\n",
    "            pend.pos.x += shift\n",
    "        elif targeted_data == \"velocity\":\n",
    "            shift = random.uniform(-attack_severity, attack_severity)\n",
    "            pend.theta += shift\n",
    "\n",
    "while t < endTime:\n",
    "    pend = updatePend(pend, dt*speedMultiplier)\n",
    "    \n",
    "    #ADDED - simullation data storing\n",
    "    time_data.append(t)\n",
    "    position_data.append(pend.pos.x)\n",
    "    #velocity_data.append() Do we want?\n",
    "    \n",
    "    t += dt\n",
    "    \n",
    "    #ADDDED - simulation timing\n",
    "    scene.caption = f\"Simulation time: {t:.2f}/{endTime:.2f}\\nPosition: {pend.pos.x:.2f}\"\n",
    "\n",
    "    rate(1/dt)\n",
    "    \n",
    "#ADDED - Plotting data\n",
    "pyplt.plot(time_data, position_data)\n",
    "pyplt.ylabel('Position')\n",
    "pyplt.grid()\n",
    "pyplt.show()"
   ]
  },
  {
   "cell_type": "code",
   "execution_count": null,
   "id": "2fd82ac1-8edd-41e5-8b7f-9e4bdc6dcd55",
   "metadata": {},
   "outputs": [],
   "source": [
    "active_injection_attack = True\n",
    "injection_rate = .1\n",
    "attack_severity = .2\n"
   ]
  }
 ],
 "metadata": {
  "kernelspec": {
   "display_name": "Python 3 (ipykernel)",
   "language": "python",
   "name": "python3"
  },
  "language_info": {
   "codemirror_mode": {
    "name": "ipython",
    "version": 3
   },
   "file_extension": ".py",
   "mimetype": "text/x-python",
   "name": "python",
   "nbconvert_exporter": "python",
   "pygments_lexer": "ipython3",
   "version": "3.10.16"
  }
 },
 "nbformat": 4,
 "nbformat_minor": 5
}
